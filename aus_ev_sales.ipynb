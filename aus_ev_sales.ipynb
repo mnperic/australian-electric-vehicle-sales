{
 "cells": [
  {
   "cell_type": "code",
   "execution_count": 234,
   "id": "fd0e0d8f",
   "metadata": {},
   "outputs": [],
   "source": [
    "# Import dependencies and setup\n",
    "\n",
    "import pandas as pd\n",
    "import matplotlib.pyplot as plt\n",
    "import matplotlib as matplotlib\n",
    "import matplotlib.dates as matplotlibdates\n",
    "import plotly.express as px\n",
    "import plotly\n",
    "import plotly.io as pio"
   ]
  },
  {
   "cell_type": "code",
   "execution_count": 235,
   "id": "cfcc5843",
   "metadata": {},
   "outputs": [],
   "source": [
    "# Read .csv files and store as DataFrame\n",
    "\n",
    "aus_ev_path = \"Resources/aus_ev_sales.csv\"\n",
    "aus_ev_df = pd.read_csv(aus_ev_path)\n",
    "\n",
    "state_ev_path = \"Resources/aus_state_ev_sales.csv\"\n",
    "state_ev_df = pd.read_csv(state_ev_path)\n",
    "\n",
    "global_ev_path = \"Resources/global_ev_sales.csv\"\n",
    "global_ev_df = pd.read_csv(global_ev_path)\n",
    "\n",
    "charging_stations_path = \"Resources/aus_state_charging_stations.csv\"\n",
    "charging_stations_df = pd.read_csv(charging_stations_path)"
   ]
  },
  {
   "cell_type": "code",
   "execution_count": 237,
   "id": "bbaa8d85",
   "metadata": {},
   "outputs": [
    {
     "data": {
      "text/html": [
       "<div>\n",
       "<style scoped>\n",
       "    .dataframe tbody tr th:only-of-type {\n",
       "        vertical-align: middle;\n",
       "    }\n",
       "\n",
       "    .dataframe tbody tr th {\n",
       "        vertical-align: top;\n",
       "    }\n",
       "\n",
       "    .dataframe thead th {\n",
       "        text-align: right;\n",
       "    }\n",
       "</style>\n",
       "<table border=\"1\" class=\"dataframe\">\n",
       "  <thead>\n",
       "    <tr style=\"text-align: right;\">\n",
       "      <th></th>\n",
       "      <th>year</th>\n",
       "      <th>EV_PHEV</th>\n",
       "      <th>total_vehicles</th>\n",
       "      <th>EV%</th>\n",
       "    </tr>\n",
       "  </thead>\n",
       "  <tbody>\n",
       "    <tr>\n",
       "      <th>0</th>\n",
       "      <td>2019</td>\n",
       "      <td>6718</td>\n",
       "      <td>1062867</td>\n",
       "      <td>0.600</td>\n",
       "    </tr>\n",
       "    <tr>\n",
       "      <th>1</th>\n",
       "      <td>2018</td>\n",
       "      <td>2216</td>\n",
       "      <td>1153111</td>\n",
       "      <td>0.200</td>\n",
       "    </tr>\n",
       "    <tr>\n",
       "      <th>2</th>\n",
       "      <td>2017</td>\n",
       "      <td>2287</td>\n",
       "      <td>1189116</td>\n",
       "      <td>0.190</td>\n",
       "    </tr>\n",
       "    <tr>\n",
       "      <th>3</th>\n",
       "      <td>2016</td>\n",
       "      <td>1369</td>\n",
       "      <td>1178133</td>\n",
       "      <td>0.120</td>\n",
       "    </tr>\n",
       "    <tr>\n",
       "      <th>4</th>\n",
       "      <td>2015</td>\n",
       "      <td>1771</td>\n",
       "      <td>1155408</td>\n",
       "      <td>0.150</td>\n",
       "    </tr>\n",
       "    <tr>\n",
       "      <th>5</th>\n",
       "      <td>2014</td>\n",
       "      <td>1322</td>\n",
       "      <td>1113224</td>\n",
       "      <td>0.120</td>\n",
       "    </tr>\n",
       "    <tr>\n",
       "      <th>6</th>\n",
       "      <td>2013</td>\n",
       "      <td>293</td>\n",
       "      <td>1136227</td>\n",
       "      <td>0.026</td>\n",
       "    </tr>\n",
       "    <tr>\n",
       "      <th>7</th>\n",
       "      <td>2012</td>\n",
       "      <td>253</td>\n",
       "      <td>1112030</td>\n",
       "      <td>0.023</td>\n",
       "    </tr>\n",
       "    <tr>\n",
       "      <th>8</th>\n",
       "      <td>2011</td>\n",
       "      <td>49</td>\n",
       "      <td>1008437</td>\n",
       "      <td>0.005</td>\n",
       "    </tr>\n",
       "  </tbody>\n",
       "</table>\n",
       "</div>"
      ],
      "text/plain": [
       "   year  EV_PHEV  total_vehicles    EV%\n",
       "0  2019     6718         1062867  0.600\n",
       "1  2018     2216         1153111  0.200\n",
       "2  2017     2287         1189116  0.190\n",
       "3  2016     1369         1178133  0.120\n",
       "4  2015     1771         1155408  0.150\n",
       "5  2014     1322         1113224  0.120\n",
       "6  2013      293         1136227  0.026\n",
       "7  2012      253         1112030  0.023\n",
       "8  2011       49         1008437  0.005"
      ]
     },
     "execution_count": 237,
     "metadata": {},
     "output_type": "execute_result"
    }
   ],
   "source": [
    "# Preview aus_ev_df (sales no. of electric/hybrid vs. petrol vehicles, 2011–2019)\n",
    "\n",
    "aus_ev_df"
   ]
  },
  {
   "cell_type": "code",
   "execution_count": 238,
   "id": "ad9bef70",
   "metadata": {},
   "outputs": [],
   "source": [
    "# Statistical analysis on aus_ev_df\n",
    "\n",
    "total_ev_sales = aus_ev_df['EV_PHEV'].sum()\n",
    "total_ev_sales = 16278\n",
    "\n",
    "total_petrol_sales = aus_ev_df['total_vehicles'].sum()\n",
    "total_petrol_sales = 10108553"
   ]
  },
  {
   "cell_type": "code",
   "execution_count": 241,
   "id": "8977ba95",
   "metadata": {},
   "outputs": [
    {
     "data": {
      "text/html": [
       "<div>\n",
       "<style scoped>\n",
       "    .dataframe tbody tr th:only-of-type {\n",
       "        vertical-align: middle;\n",
       "    }\n",
       "\n",
       "    .dataframe tbody tr th {\n",
       "        vertical-align: top;\n",
       "    }\n",
       "\n",
       "    .dataframe thead th {\n",
       "        text-align: right;\n",
       "    }\n",
       "</style>\n",
       "<table border=\"1\" class=\"dataframe\">\n",
       "  <thead>\n",
       "    <tr style=\"text-align: right;\">\n",
       "      <th></th>\n",
       "      <th>year</th>\n",
       "      <th>EV_PHEV</th>\n",
       "      <th>total_vehicles</th>\n",
       "      <th>EV%</th>\n",
       "      <th>cumulative_EV_PHEV</th>\n",
       "      <th>cumulative_total_vehicles</th>\n",
       "    </tr>\n",
       "  </thead>\n",
       "  <tbody>\n",
       "    <tr>\n",
       "      <th>0</th>\n",
       "      <td>2019</td>\n",
       "      <td>6718</td>\n",
       "      <td>1062867</td>\n",
       "      <td>0.600</td>\n",
       "      <td>16278</td>\n",
       "      <td>10108553</td>\n",
       "    </tr>\n",
       "    <tr>\n",
       "      <th>1</th>\n",
       "      <td>2018</td>\n",
       "      <td>2216</td>\n",
       "      <td>1153111</td>\n",
       "      <td>0.200</td>\n",
       "      <td>9560</td>\n",
       "      <td>9045686</td>\n",
       "    </tr>\n",
       "    <tr>\n",
       "      <th>2</th>\n",
       "      <td>2017</td>\n",
       "      <td>2287</td>\n",
       "      <td>1189116</td>\n",
       "      <td>0.190</td>\n",
       "      <td>7344</td>\n",
       "      <td>7892575</td>\n",
       "    </tr>\n",
       "    <tr>\n",
       "      <th>3</th>\n",
       "      <td>2016</td>\n",
       "      <td>1369</td>\n",
       "      <td>1178133</td>\n",
       "      <td>0.120</td>\n",
       "      <td>5057</td>\n",
       "      <td>6703459</td>\n",
       "    </tr>\n",
       "    <tr>\n",
       "      <th>4</th>\n",
       "      <td>2015</td>\n",
       "      <td>1771</td>\n",
       "      <td>1155408</td>\n",
       "      <td>0.150</td>\n",
       "      <td>3688</td>\n",
       "      <td>5525326</td>\n",
       "    </tr>\n",
       "    <tr>\n",
       "      <th>5</th>\n",
       "      <td>2014</td>\n",
       "      <td>1322</td>\n",
       "      <td>1113224</td>\n",
       "      <td>0.120</td>\n",
       "      <td>1917</td>\n",
       "      <td>4369918</td>\n",
       "    </tr>\n",
       "    <tr>\n",
       "      <th>6</th>\n",
       "      <td>2013</td>\n",
       "      <td>293</td>\n",
       "      <td>1136227</td>\n",
       "      <td>0.026</td>\n",
       "      <td>595</td>\n",
       "      <td>3256694</td>\n",
       "    </tr>\n",
       "    <tr>\n",
       "      <th>7</th>\n",
       "      <td>2012</td>\n",
       "      <td>253</td>\n",
       "      <td>1112030</td>\n",
       "      <td>0.023</td>\n",
       "      <td>302</td>\n",
       "      <td>2120467</td>\n",
       "    </tr>\n",
       "    <tr>\n",
       "      <th>8</th>\n",
       "      <td>2011</td>\n",
       "      <td>49</td>\n",
       "      <td>1008437</td>\n",
       "      <td>0.005</td>\n",
       "      <td>49</td>\n",
       "      <td>1008437</td>\n",
       "    </tr>\n",
       "  </tbody>\n",
       "</table>\n",
       "</div>"
      ],
      "text/plain": [
       "   year  EV_PHEV  total_vehicles    EV%  cumulative_EV_PHEV  \\\n",
       "0  2019     6718         1062867  0.600               16278   \n",
       "1  2018     2216         1153111  0.200                9560   \n",
       "2  2017     2287         1189116  0.190                7344   \n",
       "3  2016     1369         1178133  0.120                5057   \n",
       "4  2015     1771         1155408  0.150                3688   \n",
       "5  2014     1322         1113224  0.120                1917   \n",
       "6  2013      293         1136227  0.026                 595   \n",
       "7  2012      253         1112030  0.023                 302   \n",
       "8  2011       49         1008437  0.005                  49   \n",
       "\n",
       "   cumulative_total_vehicles  \n",
       "0                   10108553  \n",
       "1                    9045686  \n",
       "2                    7892575  \n",
       "3                    6703459  \n",
       "4                    5525326  \n",
       "5                    4369918  \n",
       "6                    3256694  \n",
       "7                    2120467  \n",
       "8                    1008437  "
      ]
     },
     "execution_count": 241,
     "metadata": {},
     "output_type": "execute_result"
    }
   ],
   "source": [
    "# Calculate cumulative EV_PHEV + cumulative total_vehicles sales and save to DataFrame\n",
    "\n",
    "aus_ev_df['cumulative_EV_PHEV'] = aus_ev_df['EV_PHEV'].cumsum()\n",
    "aus_ev_df['cumulative_total_vehicles'] = aus_ev_df['total_vehicles'].cumsum()\n",
    "aus_ev_df = aus_ev_df.sort_values(by=['cumulative_EV_PHEV'], ascending=False)\n",
    "aus_ev_df"
   ]
  },
  {
   "cell_type": "code",
   "execution_count": 248,
   "id": "a4acaa22",
   "metadata": {},
   "outputs": [
    {
     "data": {
      "application/vnd.plotly.v1+json": {
       "config": {
        "plotlyServerURL": "https://plot.ly"
       },
       "data": [
        {
         "alignmentgroup": "True",
         "hovertemplate": "Year=%{x}<br># sold=%{y}<extra></extra>",
         "legendgroup": "",
         "marker": {
          "color": "#636efa",
          "pattern": {
           "shape": ""
          }
         },
         "name": "",
         "offsetgroup": "",
         "orientation": "v",
         "showlegend": false,
         "textposition": "auto",
         "type": "bar",
         "x": [
          2019,
          2018,
          2017,
          2016,
          2015,
          2014,
          2013,
          2012,
          2011
         ],
         "xaxis": "x",
         "y": [
          6718,
          2216,
          2287,
          1369,
          1771,
          1322,
          293,
          253,
          49
         ],
         "yaxis": "y"
        }
       ],
       "layout": {
        "barmode": "relative",
        "font": {
         "color": "black",
         "family": "Helvetica"
        },
        "legend": {
         "title": {
          "font": {
           "color": "black"
          }
         },
         "tracegroupgap": 0
        },
        "template": {
         "data": {
          "pie": [
           {
            "automargin": true,
            "type": "pie"
           }
          ],
          "scatter": [
           {
            "line": {
             "width": 3
            },
            "marker": {
             "size": 9
            },
            "type": "scatter"
           }
          ],
          "scatter3d": [
           {
            "line": {
             "width": 3
            },
            "marker": {
             "size": 9
            },
            "type": "scatter3d"
           }
          ],
          "scattergeo": [
           {
            "line": {
             "width": 3
            },
            "marker": {
             "size": 9
            },
            "type": "scattergeo"
           }
          ],
          "scattergl": [
           {
            "line": {
             "width": 3
            },
            "marker": {
             "size": 9
            },
            "type": "scattergl"
           }
          ],
          "scatterpolar": [
           {
            "line": {
             "width": 3
            },
            "marker": {
             "size": 9
            },
            "type": "scatterpolar"
           }
          ],
          "scatterpolargl": [
           {
            "line": {
             "width": 3
            },
            "marker": {
             "size": 9
            },
            "type": "scatterpolargl"
           }
          ],
          "scatterternary": [
           {
            "line": {
             "width": 3
            },
            "marker": {
             "size": 9
            },
            "type": "scatterternary"
           }
          ],
          "table": [
           {
            "cells": {
             "height": 30
            },
            "header": {
             "height": 36
            },
            "type": "table"
           }
          ]
         },
         "layout": {
          "font": {
           "size": 18
          },
          "xaxis": {
           "title": {
            "standoff": 15
           }
          },
          "yaxis": {
           "title": {
            "standoff": 15
           }
          }
         }
        },
        "title": {
         "font": {
          "color": "black",
          "family": "Helvetica"
         },
         "text": "Total number of Electric (EV) and Plug-in Hybrid (PHEV) vehicles sold in Australia"
        },
        "xaxis": {
         "anchor": "y",
         "domain": [
          0,
          1
         ],
         "title": {
          "font": {
           "family": "Helvetica"
          },
          "text": "Year"
         }
        },
        "yaxis": {
         "anchor": "x",
         "domain": [
          0,
          1
         ],
         "title": {
          "text": "# sold"
         }
        }
       }
      },
      "text/html": [
       "<div>                            <div id=\"597d7343-88ed-4102-ae07-acae01567a23\" class=\"plotly-graph-div\" style=\"height:525px; width:100%;\"></div>            <script type=\"text/javascript\">                require([\"plotly\"], function(Plotly) {                    window.PLOTLYENV=window.PLOTLYENV || {};                                    if (document.getElementById(\"597d7343-88ed-4102-ae07-acae01567a23\")) {                    Plotly.newPlot(                        \"597d7343-88ed-4102-ae07-acae01567a23\",                        [{\"alignmentgroup\":\"True\",\"hovertemplate\":\"Year=%{x}<br># sold=%{y}<extra></extra>\",\"legendgroup\":\"\",\"marker\":{\"color\":\"#636efa\",\"pattern\":{\"shape\":\"\"}},\"name\":\"\",\"offsetgroup\":\"\",\"orientation\":\"v\",\"showlegend\":false,\"textposition\":\"auto\",\"x\":[2019,2018,2017,2016,2015,2014,2013,2012,2011],\"xaxis\":\"x\",\"y\":[6718,2216,2287,1369,1771,1322,293,253,49],\"yaxis\":\"y\",\"type\":\"bar\"}],                        {\"template\":{\"data\":{\"pie\":[{\"automargin\":true,\"type\":\"pie\"}],\"scatter3d\":[{\"line\":{\"width\":3},\"marker\":{\"size\":9},\"type\":\"scatter3d\"}],\"scattergeo\":[{\"line\":{\"width\":3},\"marker\":{\"size\":9},\"type\":\"scattergeo\"}],\"scattergl\":[{\"line\":{\"width\":3},\"marker\":{\"size\":9},\"type\":\"scattergl\"}],\"scatterpolargl\":[{\"line\":{\"width\":3},\"marker\":{\"size\":9},\"type\":\"scatterpolargl\"}],\"scatterpolar\":[{\"line\":{\"width\":3},\"marker\":{\"size\":9},\"type\":\"scatterpolar\"}],\"scatter\":[{\"line\":{\"width\":3},\"marker\":{\"size\":9},\"type\":\"scatter\"}],\"scatterternary\":[{\"line\":{\"width\":3},\"marker\":{\"size\":9},\"type\":\"scatterternary\"}],\"table\":[{\"cells\":{\"height\":30},\"header\":{\"height\":36},\"type\":\"table\"}]},\"layout\":{\"font\":{\"size\":18},\"xaxis\":{\"title\":{\"standoff\":15}},\"yaxis\":{\"title\":{\"standoff\":15}}}},\"xaxis\":{\"anchor\":\"y\",\"domain\":[0.0,1.0],\"title\":{\"text\":\"Year\",\"font\":{\"family\":\"Helvetica\"}}},\"yaxis\":{\"anchor\":\"x\",\"domain\":[0.0,1.0],\"title\":{\"text\":\"# sold\"}},\"legend\":{\"tracegroupgap\":0,\"title\":{\"font\":{\"color\":\"black\"}}},\"title\":{\"text\":\"Total number of Electric (EV) and Plug-in Hybrid (PHEV) vehicles sold in Australia\",\"font\":{\"family\":\"Helvetica\",\"color\":\"black\"}},\"barmode\":\"relative\",\"font\":{\"family\":\"Helvetica\",\"color\":\"black\"}},                        {\"responsive\": true}                    ).then(function(){\n",
       "                            \n",
       "var gd = document.getElementById('597d7343-88ed-4102-ae07-acae01567a23');\n",
       "var x = new MutationObserver(function (mutations, observer) {{\n",
       "        var display = window.getComputedStyle(gd).display;\n",
       "        if (!display || display === 'none') {{\n",
       "            console.log([gd, 'removed!']);\n",
       "            Plotly.purge(gd);\n",
       "            observer.disconnect();\n",
       "        }}\n",
       "}});\n",
       "\n",
       "// Listen for the removal of the full notebook cells\n",
       "var notebookContainer = gd.closest('#notebook-container');\n",
       "if (notebookContainer) {{\n",
       "    x.observe(notebookContainer, {childList: true});\n",
       "}}\n",
       "\n",
       "// Listen for the clearing of the current output cell\n",
       "var outputEl = gd.closest('.output');\n",
       "if (outputEl) {{\n",
       "    x.observe(outputEl, {childList: true});\n",
       "}}\n",
       "\n",
       "                        })                };                });            </script>        </div>"
      ]
     },
     "metadata": {},
     "output_type": "display_data"
    }
   ],
   "source": [
    "# Plot bar graph\n",
    "\n",
    "x = aus_ev_df['year']\n",
    "y = aus_ev_df['EV_PHEV']\n",
    "\n",
    "fig = px.bar(x=x, y=y, labels=dict(x=\"Year\", y=\"# sold\"),\n",
    "             title='Total number of Electric (EV) and Plug-in Hybrid (PHEV) vehicles sold in Australia')\n",
    "\n",
    "fig.update_layout(\n",
    "    font_family=\"Helvetica\",\n",
    "    font_color=\"black\",\n",
    "    title_font_family=\"Helvetica\",\n",
    "    title_font_color=\"black\",\n",
    "    legend_title_font_color=\"black\")\n",
    "\n",
    "fig.layout.template = 'presentation'\n",
    "\n",
    "fig.update_xaxes(title_font_family=\"Helvetica\")\n",
    "plotly.offline.plot(fig, filename='/Users/minoperic/Data Analytics/Data Investigations/australian-electric-vehicle-sales/fig_1.html')\n",
    "fig.show()"
   ]
  },
  {
   "cell_type": "code",
   "execution_count": 247,
   "id": "ee38c4b9",
   "metadata": {},
   "outputs": [
    {
     "data": {
      "application/vnd.plotly.v1+json": {
       "config": {
        "plotlyServerURL": "https://plot.ly"
       },
       "data": [
        {
         "alignmentgroup": "True",
         "hovertemplate": "Year=%{x}<br># sold=%{y}<extra></extra>",
         "legendgroup": "",
         "marker": {
          "color": "#636efa",
          "pattern": {
           "shape": ""
          }
         },
         "name": "",
         "offsetgroup": "",
         "orientation": "v",
         "showlegend": false,
         "textposition": "auto",
         "type": "bar",
         "x": [
          2019,
          2018,
          2017,
          2016,
          2015,
          2014,
          2013,
          2012,
          2011
         ],
         "xaxis": "x",
         "y": [
          1062867,
          1153111,
          1189116,
          1178133,
          1155408,
          1113224,
          1136227,
          1112030,
          1008437
         ],
         "yaxis": "y"
        }
       ],
       "layout": {
        "barmode": "relative",
        "font": {
         "color": "black",
         "family": "Helvetica"
        },
        "legend": {
         "title": {
          "font": {
           "color": "black"
          }
         },
         "tracegroupgap": 0
        },
        "template": {
         "data": {
          "pie": [
           {
            "automargin": true,
            "type": "pie"
           }
          ],
          "scatter": [
           {
            "line": {
             "width": 3
            },
            "marker": {
             "size": 9
            },
            "type": "scatter"
           }
          ],
          "scatter3d": [
           {
            "line": {
             "width": 3
            },
            "marker": {
             "size": 9
            },
            "type": "scatter3d"
           }
          ],
          "scattergeo": [
           {
            "line": {
             "width": 3
            },
            "marker": {
             "size": 9
            },
            "type": "scattergeo"
           }
          ],
          "scattergl": [
           {
            "line": {
             "width": 3
            },
            "marker": {
             "size": 9
            },
            "type": "scattergl"
           }
          ],
          "scatterpolar": [
           {
            "line": {
             "width": 3
            },
            "marker": {
             "size": 9
            },
            "type": "scatterpolar"
           }
          ],
          "scatterpolargl": [
           {
            "line": {
             "width": 3
            },
            "marker": {
             "size": 9
            },
            "type": "scatterpolargl"
           }
          ],
          "scatterternary": [
           {
            "line": {
             "width": 3
            },
            "marker": {
             "size": 9
            },
            "type": "scatterternary"
           }
          ],
          "table": [
           {
            "cells": {
             "height": 30
            },
            "header": {
             "height": 36
            },
            "type": "table"
           }
          ]
         },
         "layout": {
          "font": {
           "size": 18
          },
          "xaxis": {
           "title": {
            "standoff": 15
           }
          },
          "yaxis": {
           "title": {
            "standoff": 15
           }
          }
         }
        },
        "title": {
         "font": {
          "color": "black",
          "family": "Helvetica"
         },
         "text": "Total number of vehicles sold in Australia"
        },
        "xaxis": {
         "anchor": "y",
         "domain": [
          0,
          1
         ],
         "title": {
          "font": {
           "family": "Helvetica"
          },
          "text": "Year"
         }
        },
        "yaxis": {
         "anchor": "x",
         "domain": [
          0,
          1
         ],
         "title": {
          "text": "# sold"
         }
        }
       }
      },
      "text/html": [
       "<div>                            <div id=\"27db86ee-3e85-4282-8460-38381c08505d\" class=\"plotly-graph-div\" style=\"height:525px; width:100%;\"></div>            <script type=\"text/javascript\">                require([\"plotly\"], function(Plotly) {                    window.PLOTLYENV=window.PLOTLYENV || {};                                    if (document.getElementById(\"27db86ee-3e85-4282-8460-38381c08505d\")) {                    Plotly.newPlot(                        \"27db86ee-3e85-4282-8460-38381c08505d\",                        [{\"alignmentgroup\":\"True\",\"hovertemplate\":\"Year=%{x}<br># sold=%{y}<extra></extra>\",\"legendgroup\":\"\",\"marker\":{\"color\":\"#636efa\",\"pattern\":{\"shape\":\"\"}},\"name\":\"\",\"offsetgroup\":\"\",\"orientation\":\"v\",\"showlegend\":false,\"textposition\":\"auto\",\"x\":[2019,2018,2017,2016,2015,2014,2013,2012,2011],\"xaxis\":\"x\",\"y\":[1062867,1153111,1189116,1178133,1155408,1113224,1136227,1112030,1008437],\"yaxis\":\"y\",\"type\":\"bar\"}],                        {\"template\":{\"data\":{\"pie\":[{\"automargin\":true,\"type\":\"pie\"}],\"scatter3d\":[{\"line\":{\"width\":3},\"marker\":{\"size\":9},\"type\":\"scatter3d\"}],\"scattergeo\":[{\"line\":{\"width\":3},\"marker\":{\"size\":9},\"type\":\"scattergeo\"}],\"scattergl\":[{\"line\":{\"width\":3},\"marker\":{\"size\":9},\"type\":\"scattergl\"}],\"scatterpolargl\":[{\"line\":{\"width\":3},\"marker\":{\"size\":9},\"type\":\"scatterpolargl\"}],\"scatterpolar\":[{\"line\":{\"width\":3},\"marker\":{\"size\":9},\"type\":\"scatterpolar\"}],\"scatter\":[{\"line\":{\"width\":3},\"marker\":{\"size\":9},\"type\":\"scatter\"}],\"scatterternary\":[{\"line\":{\"width\":3},\"marker\":{\"size\":9},\"type\":\"scatterternary\"}],\"table\":[{\"cells\":{\"height\":30},\"header\":{\"height\":36},\"type\":\"table\"}]},\"layout\":{\"font\":{\"size\":18},\"xaxis\":{\"title\":{\"standoff\":15}},\"yaxis\":{\"title\":{\"standoff\":15}}}},\"xaxis\":{\"anchor\":\"y\",\"domain\":[0.0,1.0],\"title\":{\"text\":\"Year\",\"font\":{\"family\":\"Helvetica\"}}},\"yaxis\":{\"anchor\":\"x\",\"domain\":[0.0,1.0],\"title\":{\"text\":\"# sold\"}},\"legend\":{\"tracegroupgap\":0,\"title\":{\"font\":{\"color\":\"black\"}}},\"title\":{\"text\":\"Total number of vehicles sold in Australia\",\"font\":{\"family\":\"Helvetica\",\"color\":\"black\"}},\"barmode\":\"relative\",\"font\":{\"family\":\"Helvetica\",\"color\":\"black\"}},                        {\"responsive\": true}                    ).then(function(){\n",
       "                            \n",
       "var gd = document.getElementById('27db86ee-3e85-4282-8460-38381c08505d');\n",
       "var x = new MutationObserver(function (mutations, observer) {{\n",
       "        var display = window.getComputedStyle(gd).display;\n",
       "        if (!display || display === 'none') {{\n",
       "            console.log([gd, 'removed!']);\n",
       "            Plotly.purge(gd);\n",
       "            observer.disconnect();\n",
       "        }}\n",
       "}});\n",
       "\n",
       "// Listen for the removal of the full notebook cells\n",
       "var notebookContainer = gd.closest('#notebook-container');\n",
       "if (notebookContainer) {{\n",
       "    x.observe(notebookContainer, {childList: true});\n",
       "}}\n",
       "\n",
       "// Listen for the clearing of the current output cell\n",
       "var outputEl = gd.closest('.output');\n",
       "if (outputEl) {{\n",
       "    x.observe(outputEl, {childList: true});\n",
       "}}\n",
       "\n",
       "                        })                };                });            </script>        </div>"
      ]
     },
     "metadata": {},
     "output_type": "display_data"
    }
   ],
   "source": [
    "# Plot bar graph\n",
    "\n",
    "x = aus_ev_df['year']\n",
    "y = aus_ev_df['total_vehicles']\n",
    "\n",
    "fig = px.bar(x=x, y=y, labels=dict(x=\"Year\", y=\"# sold\"),\n",
    "             title='Total number of vehicles sold in Australia')\n",
    "\n",
    "fig.update_layout(\n",
    "    font_family=\"Helvetica\",\n",
    "    font_color=\"black\",\n",
    "    title_font_family=\"Helvetica\",\n",
    "    title_font_color=\"black\",\n",
    "    legend_title_font_color=\"black\")\n",
    "\n",
    "fig.layout.template = 'presentation'\n",
    "\n",
    "fig.update_xaxes(title_font_family=\"Helvetica\")\n",
    "plotly.offline.plot(fig, filename='/Users/minoperic/Data Analytics/Data Investigations/australian-electric-vehicle-sales/fig_2.html')\n",
    "fig.show()"
   ]
  },
  {
   "cell_type": "code",
   "execution_count": null,
   "id": "daaeb0fd",
   "metadata": {},
   "outputs": [],
   "source": [
    "# Plot total EV vs. total vehicles (2 x line)\n",
    "\n",
    "EV_cumulative = aus_ev_df['cumulative_EV_PHEV']\n",
    "total_cumulative =\n",
    "\n",
    "#fig = px.line(x=year, y=cumulative, color=px.Constant(\"Cumulative\"), \n",
    "#               labels=dict(x=\"Fruit\", y=\"Amount\", color=\"Period\"),\n",
    "#               title='Total number of Electric (EV) and Plug-in Hybrid (PHEV) vehicles sold in Australia')"
   ]
  },
  {
   "cell_type": "code",
   "execution_count": 11,
   "id": "34f2d080",
   "metadata": {},
   "outputs": [
    {
     "data": {
      "text/html": [
       "<div>\n",
       "<style scoped>\n",
       "    .dataframe tbody tr th:only-of-type {\n",
       "        vertical-align: middle;\n",
       "    }\n",
       "\n",
       "    .dataframe tbody tr th {\n",
       "        vertical-align: top;\n",
       "    }\n",
       "\n",
       "    .dataframe thead th {\n",
       "        text-align: right;\n",
       "    }\n",
       "</style>\n",
       "<table border=\"1\" class=\"dataframe\">\n",
       "  <thead>\n",
       "    <tr style=\"text-align: right;\">\n",
       "      <th></th>\n",
       "      <th>State</th>\n",
       "      <th>EV_per_10000</th>\n",
       "    </tr>\n",
       "  </thead>\n",
       "  <tbody>\n",
       "    <tr>\n",
       "      <th>0</th>\n",
       "      <td>NSW</td>\n",
       "      <td>10</td>\n",
       "    </tr>\n",
       "    <tr>\n",
       "      <th>1</th>\n",
       "      <td>VIC</td>\n",
       "      <td>9</td>\n",
       "    </tr>\n",
       "    <tr>\n",
       "      <th>2</th>\n",
       "      <td>QLD</td>\n",
       "      <td>7</td>\n",
       "    </tr>\n",
       "    <tr>\n",
       "      <th>3</th>\n",
       "      <td>SA</td>\n",
       "      <td>21</td>\n",
       "    </tr>\n",
       "    <tr>\n",
       "      <th>4</th>\n",
       "      <td>WA</td>\n",
       "      <td>8</td>\n",
       "    </tr>\n",
       "    <tr>\n",
       "      <th>5</th>\n",
       "      <td>TAS</td>\n",
       "      <td>3</td>\n",
       "    </tr>\n",
       "    <tr>\n",
       "      <th>6</th>\n",
       "      <td>NT</td>\n",
       "      <td>1</td>\n",
       "    </tr>\n",
       "    <tr>\n",
       "      <th>7</th>\n",
       "      <td>ACT</td>\n",
       "      <td>21</td>\n",
       "    </tr>\n",
       "  </tbody>\n",
       "</table>\n",
       "</div>"
      ],
      "text/plain": [
       "  State  EV_per_10000\n",
       "0   NSW            10\n",
       "1   VIC             9\n",
       "2   QLD             7\n",
       "3    SA            21\n",
       "4    WA             8\n",
       "5   TAS             3\n",
       "6    NT             1\n",
       "7   ACT            21"
      ]
     },
     "execution_count": 11,
     "metadata": {},
     "output_type": "execute_result"
    }
   ],
   "source": [
    "# Preview state_ev_df (no. of EV/Hybrid vehicles sold per state [per 10,000 vehicles sold])\n",
    "\n",
    "state_ev_df"
   ]
  },
  {
   "cell_type": "code",
   "execution_count": 28,
   "id": "9c64b81a",
   "metadata": {},
   "outputs": [],
   "source": [
    "# Statistical analysis on aus_state_ev_df\n",
    "\n",
    "aus_per_10000 = state_ev_df['EV_per_10000'].sum()\n",
    "aus_per_10000 = 80"
   ]
  },
  {
   "cell_type": "code",
   "execution_count": 13,
   "id": "f11c77dd",
   "metadata": {},
   "outputs": [
    {
     "data": {
      "text/html": [
       "<div>\n",
       "<style scoped>\n",
       "    .dataframe tbody tr th:only-of-type {\n",
       "        vertical-align: middle;\n",
       "    }\n",
       "\n",
       "    .dataframe tbody tr th {\n",
       "        vertical-align: top;\n",
       "    }\n",
       "\n",
       "    .dataframe thead th {\n",
       "        text-align: right;\n",
       "    }\n",
       "</style>\n",
       "<table border=\"1\" class=\"dataframe\">\n",
       "  <thead>\n",
       "    <tr style=\"text-align: right;\">\n",
       "      <th></th>\n",
       "      <th>country</th>\n",
       "      <th>percent</th>\n",
       "    </tr>\n",
       "  </thead>\n",
       "  <tbody>\n",
       "    <tr>\n",
       "      <th>0</th>\n",
       "      <td>Norway</td>\n",
       "      <td>10.7%</td>\n",
       "    </tr>\n",
       "    <tr>\n",
       "      <th>1</th>\n",
       "      <td>Netherlands</td>\n",
       "      <td>1.7%</td>\n",
       "    </tr>\n",
       "    <tr>\n",
       "      <th>2</th>\n",
       "      <td>China</td>\n",
       "      <td>0.94%</td>\n",
       "    </tr>\n",
       "    <tr>\n",
       "      <th>3</th>\n",
       "      <td>Sweden</td>\n",
       "      <td>0.6%</td>\n",
       "    </tr>\n",
       "    <tr>\n",
       "      <th>4</th>\n",
       "      <td>USA</td>\n",
       "      <td>0.45%</td>\n",
       "    </tr>\n",
       "    <tr>\n",
       "      <th>5</th>\n",
       "      <td>Australia</td>\n",
       "      <td>0.2%</td>\n",
       "    </tr>\n",
       "  </tbody>\n",
       "</table>\n",
       "</div>"
      ],
      "text/plain": [
       "       country percent\n",
       "0       Norway   10.7%\n",
       "1  Netherlands    1.7%\n",
       "2        China   0.94%\n",
       "3       Sweden    0.6%\n",
       "4          USA   0.45%\n",
       "5    Australia    0.2%"
      ]
     },
     "execution_count": 13,
     "metadata": {},
     "output_type": "execute_result"
    }
   ],
   "source": [
    "# Preview global_ev_df (total % of EV sold globally – 2019)\n",
    "\n",
    "global_ev_df"
   ]
  },
  {
   "cell_type": "code",
   "execution_count": 41,
   "id": "3f19e447",
   "metadata": {},
   "outputs": [
    {
     "data": {
      "text/html": [
       "<div>\n",
       "<style scoped>\n",
       "    .dataframe tbody tr th:only-of-type {\n",
       "        vertical-align: middle;\n",
       "    }\n",
       "\n",
       "    .dataframe tbody tr th {\n",
       "        vertical-align: top;\n",
       "    }\n",
       "\n",
       "    .dataframe thead th {\n",
       "        text-align: right;\n",
       "    }\n",
       "</style>\n",
       "<table border=\"1\" class=\"dataframe\">\n",
       "  <thead>\n",
       "    <tr style=\"text-align: right;\">\n",
       "      <th></th>\n",
       "      <th>state</th>\n",
       "      <th>charging_stations</th>\n",
       "    </tr>\n",
       "  </thead>\n",
       "  <tbody>\n",
       "    <tr>\n",
       "      <th>0</th>\n",
       "      <td>NSW</td>\n",
       "      <td>161</td>\n",
       "    </tr>\n",
       "    <tr>\n",
       "      <th>1</th>\n",
       "      <td>VIC</td>\n",
       "      <td>216</td>\n",
       "    </tr>\n",
       "    <tr>\n",
       "      <th>2</th>\n",
       "      <td>QLD</td>\n",
       "      <td>162</td>\n",
       "    </tr>\n",
       "    <tr>\n",
       "      <th>3</th>\n",
       "      <td>SA</td>\n",
       "      <td>76</td>\n",
       "    </tr>\n",
       "    <tr>\n",
       "      <th>4</th>\n",
       "      <td>WA</td>\n",
       "      <td>122</td>\n",
       "    </tr>\n",
       "    <tr>\n",
       "      <th>5</th>\n",
       "      <td>TAS</td>\n",
       "      <td>21</td>\n",
       "    </tr>\n",
       "    <tr>\n",
       "      <th>6</th>\n",
       "      <td>NT</td>\n",
       "      <td>5</td>\n",
       "    </tr>\n",
       "    <tr>\n",
       "      <th>7</th>\n",
       "      <td>ACT</td>\n",
       "      <td>20</td>\n",
       "    </tr>\n",
       "  </tbody>\n",
       "</table>\n",
       "</div>"
      ],
      "text/plain": [
       "  state  charging_stations\n",
       "0   NSW                161\n",
       "1   VIC                216\n",
       "2   QLD                162\n",
       "3    SA                 76\n",
       "4    WA                122\n",
       "5   TAS                 21\n",
       "6    NT                  5\n",
       "7   ACT                 20"
      ]
     },
     "execution_count": 41,
     "metadata": {},
     "output_type": "execute_result"
    }
   ],
   "source": [
    "# Preview charging_stations_df (no. of EV charging stations per state)\n",
    "\n",
    "charging_stations_df"
   ]
  },
  {
   "cell_type": "code",
   "execution_count": 44,
   "id": "2b331c0d",
   "metadata": {},
   "outputs": [],
   "source": [
    "# Statistical analysis on charging_stations_df\n",
    "\n",
    "aus_charging_stations = charging_stations_df['charging_stations'].sum()\n",
    "aus_charging_stations = 783"
   ]
  },
  {
   "cell_type": "code",
   "execution_count": null,
   "id": "a96b2bb4",
   "metadata": {},
   "outputs": [],
   "source": []
  }
 ],
 "metadata": {
  "kernelspec": {
   "display_name": "Python 3",
   "language": "python",
   "name": "python3"
  },
  "language_info": {
   "codemirror_mode": {
    "name": "ipython",
    "version": 3
   },
   "file_extension": ".py",
   "mimetype": "text/x-python",
   "name": "python",
   "nbconvert_exporter": "python",
   "pygments_lexer": "ipython3",
   "version": "3.8.8"
  }
 },
 "nbformat": 4,
 "nbformat_minor": 5
}
